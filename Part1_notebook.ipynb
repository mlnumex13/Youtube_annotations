{
  "nbformat": 4,
  "nbformat_minor": 0,
  "metadata": {
    "colab": {
      "provenance": []
    },
    "kernelspec": {
      "name": "python3",
      "display_name": "Python 3"
    },
    "language_info": {
      "name": "python"
    }
  },
  "cells": [
    {
      "cell_type": "markdown",
      "source": [
        "## Importing the libraries \n",
        "\n",
        "We will import the necessary libraries here"
      ],
      "metadata": {
        "id": "pYm5YyKyH8x_"
      }
    },
    {
      "cell_type": "code",
      "execution_count": null,
      "metadata": {
        "id": "daZU0x1Nor7J"
      },
      "outputs": [],
      "source": [
        "import numpy as np \n",
        "from sklearn.metrics import accuracy_score"
      ]
    },
    {
      "cell_type": "markdown",
      "source": [
        "## Initialize the hyperparameters \n",
        "\n",
        "We will select some basic hyperparameters like number of iterations, learning rate (for gradient ascent) etc"
      ],
      "metadata": {
        "id": "zmGuBhTLIEb1"
      }
    },
    {
      "cell_type": "code",
      "source": [
        "num_iterations = 20\n",
        "learning_rate  = 0.2"
      ],
      "metadata": {
        "id": "EuJOliERouWo"
      },
      "execution_count": null,
      "outputs": []
    },
    {
      "cell_type": "markdown",
      "source": [
        "## Problem statement\n",
        "We will initialize variables for our problem statement (ie., X and Y) "
      ],
      "metadata": {
        "id": "Piui2AEYIQan"
      }
    },
    {
      "cell_type": "code",
      "source": [
        "X = np.array([[1,0,1],[1,1,1],[0,1,1],[0,0,1]])\n",
        "\n",
        "print('The actual input matrix X for OR-Gate is given as')\n",
        "print(X)\n",
        "\n",
        "y = np.array([[1],[1],[1],[-1]])\n",
        "\n",
        "print('The target vector is')\n",
        "print(y)\n"
      ],
      "metadata": {
        "colab": {
          "base_uri": "https://localhost:8080/"
        },
        "id": "UFCndyWxp1jI",
        "outputId": "b7284df2-09e6-41ab-8505-be26affd7801"
      },
      "execution_count": null,
      "outputs": [
        {
          "output_type": "stream",
          "name": "stdout",
          "text": [
            "The actual input matrix X for OR-Gate is given as\n",
            "[[1 0 1]\n",
            " [1 1 1]\n",
            " [0 1 1]\n",
            " [0 0 1]]\n",
            "The target vector is\n",
            "[[ 1]\n",
            " [ 1]\n",
            " [ 1]\n",
            " [-1]]\n"
          ]
        }
      ]
    },
    {
      "cell_type": "code",
      "source": [
        "def misclassification(true,pred):\n",
        "  '''\n",
        "    Finds out the number of observations misclassified by our model \n",
        "  '''\n",
        "  return 1-accuracy_score(true,pred)"
      ],
      "metadata": {
        "id": "R7sZ5ldhoTPA"
      },
      "execution_count": null,
      "outputs": []
    },
    {
      "cell_type": "markdown",
      "source": [
        "## Performing gradient ascent \n",
        "\n",
        "We perform gradient ascent to update the weights. "
      ],
      "metadata": {
        "id": "-rBo4jJPIeSv"
      }
    },
    {
      "cell_type": "code",
      "source": [
        "w = np.array([[1],[1],[-3]])\n",
        "\n",
        "for i in range(num_iterations):\n",
        "\n",
        "  outputs = X@w\n",
        "\n",
        "  outputs = np.array([1 if z>0 else -1 for z in outputs])\n",
        "\n",
        "  print('iteration ',i+1,'misclassification rate = ',misclassification(y,outputs))\n",
        "  print('Predicted results ',outputs.ravel())\n",
        "  print('Actual results    ',y.ravel())\n",
        "  print(\"y(X.w)            \",(y*(X@w)).ravel())\n",
        "  print(\"y.T.(X.w)         \",(y.T.dot(X@w)).ravel())\n",
        "\n",
        "  if misclassification(y,outputs)==0:\n",
        "    print(f'0 misclassifications attained and the final weights are {w} \\n')  \n",
        "    break\n",
        "\n",
        "  print(\"Old value of w   \",w.ravel())  \n",
        "  \n",
        "  w = w+learning_rate*(X.T@y)\n",
        "  \n",
        "  print(\"New value of w   \",w.ravel())  \n",
        "  print('\\n')"
      ],
      "metadata": {
        "colab": {
          "base_uri": "https://localhost:8080/"
        },
        "id": "6tzA8B5IikEB",
        "outputId": "9e262668-78d7-417f-a159-795ebd946a2b"
      },
      "execution_count": null,
      "outputs": [
        {
          "output_type": "stream",
          "name": "stdout",
          "text": [
            "iteration  1 misclassification rate =  0.75\n",
            "Predicted results  [-1 -1 -1 -1]\n",
            "Actual results     [ 1  1  1 -1]\n",
            "y(X.w)             [-2 -1 -2  3]\n",
            "y.T.(X.w)          [-2]\n",
            "Old value of w    [ 1  1 -3]\n",
            "New value of w    [ 1.4  1.4 -2.6]\n",
            "\n",
            "\n",
            "iteration  2 misclassification rate =  0.5\n",
            "Predicted results  [-1  1 -1 -1]\n",
            "Actual results     [ 1  1  1 -1]\n",
            "y(X.w)             [-1.2  0.2 -1.2  2.6]\n",
            "y.T.(X.w)          [0.4]\n",
            "Old value of w    [ 1.4  1.4 -2.6]\n",
            "New value of w    [ 1.8  1.8 -2.2]\n",
            "\n",
            "\n",
            "iteration  3 misclassification rate =  0.5\n",
            "Predicted results  [-1  1 -1 -1]\n",
            "Actual results     [ 1  1  1 -1]\n",
            "y(X.w)             [-0.4  1.4 -0.4  2.2]\n",
            "y.T.(X.w)          [2.8]\n",
            "Old value of w    [ 1.8  1.8 -2.2]\n",
            "New value of w    [ 2.2  2.2 -1.8]\n",
            "\n",
            "\n",
            "iteration  4 misclassification rate =  0.0\n",
            "Predicted results  [ 1  1  1 -1]\n",
            "Actual results     [ 1  1  1 -1]\n",
            "y(X.w)             [0.4 2.6 0.4 1.8]\n",
            "y.T.(X.w)          [5.2]\n",
            "0 misclassifications attained and the final weights are [[ 2.2]\n",
            " [ 2.2]\n",
            " [-1.8]] \n",
            "\n"
          ]
        }
      ]
    },
    {
      "cell_type": "code",
      "source": [],
      "metadata": {
        "id": "ODda1lhCw-0v"
      },
      "execution_count": null,
      "outputs": []
    },
    {
      "cell_type": "code",
      "source": [],
      "metadata": {
        "id": "CU5Ux0ltUNTa"
      },
      "execution_count": null,
      "outputs": []
    }
  ]
}